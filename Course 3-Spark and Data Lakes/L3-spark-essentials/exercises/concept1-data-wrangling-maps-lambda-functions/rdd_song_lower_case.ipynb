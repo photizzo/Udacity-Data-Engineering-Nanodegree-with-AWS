{
 "cells": [
  {
   "cell_type": "code",
   "execution_count": 1,
   "metadata": {},
   "outputs": [],
   "source": [
    "import pyspark"
   ]
  },
  {
   "cell_type": "code",
   "execution_count": 2,
   "metadata": {},
   "outputs": [],
   "source": [
    "from pyspark.sql import SparkSession"
   ]
  },
  {
   "cell_type": "code",
   "execution_count": 3,
   "metadata": {},
   "outputs": [
    {
     "name": "stderr",
     "output_type": "stream",
     "text": [
      "23/07/10 10:25:59 WARN Utils: Your hostname, Phoebes-MacBook-Pro.local resolves to a loopback address: 127.0.0.1; using 192.168.101.2 instead (on interface en0)\n",
      "23/07/10 10:25:59 WARN Utils: Set SPARK_LOCAL_IP if you need to bind to another address\n",
      "Setting default log level to \"WARN\".\n",
      "To adjust logging level use sc.setLogLevel(newLevel). For SparkR, use setLogLevel(newLevel).\n",
      "23/07/10 10:26:00 WARN NativeCodeLoader: Unable to load native-hadoop library for your platform... using builtin-java classes where applicable\n"
     ]
    }
   ],
   "source": [
    "# Because we aren't running on a spark cluster, the session is just for development\n",
    "\n",
    "spark = SparkSession \\\n",
    "    .builder \\\n",
    "    .appName(\"Maps and Lazy Evaluation Example\") \\\n",
    "    .getOrCreate()"
   ]
  },
  {
   "cell_type": "code",
   "execution_count": 4,
   "metadata": {},
   "outputs": [],
   "source": [
    "# Starting off with a regular python list\n",
    "\n",
    "log_of_songs = [\n",
    "        \"Despacito\",\n",
    "        \"Nice for what\",\n",
    "        \"No tears left to cry\",\n",
    "        \"Despacito\",\n",
    "        \"Havana\",\n",
    "        \"In my feelings\",\n",
    "        \"Nice for what\",\n",
    "        \"despacito\",\n",
    "        \"All the stars\"\n",
    "]"
   ]
  },
  {
   "cell_type": "code",
   "execution_count": 5,
   "metadata": {},
   "outputs": [],
   "source": [
    "# parallelize the log_of_songs to use with Spark\n",
    "# distributed_song_log_rdd is an RDD (Reslient Distributed Dataset)\n",
    "\n",
    "distributed_song_log_rdd = spark.sparkContext.parallelize(log_of_songs)"
   ]
  },
  {
   "cell_type": "code",
   "execution_count": 6,
   "metadata": {},
   "outputs": [
    {
     "name": "stderr",
     "output_type": "stream",
     "text": [
      "Nice for what                                                       (0 + 8) / 8]\n",
      "Despacito\n",
      "No tears left to cry\n",
      "In my feelings\n",
      "Nice for what\n",
      "Despacito\n",
      "Havana\n",
      "despacito\n",
      "All the stars\n",
      "                                                                                \r"
     ]
    }
   ],
   "source": [
    "# notice we DO NOT use the .collect() method. What is the difference between\n",
    "# .collect() and .foreach()? \n",
    "# .collect() forces all the data from the entire RDD on all nodes \n",
    "# to be collected from ALL the nodes, which kills productivity, and could crash\n",
    "# .foreach() allows the data to stay on each of the independent nodes\n",
    "\n",
    "# show the original input data is preserved\n",
    "\n",
    "distributed_song_log_rdd.foreach(print)"
   ]
  },
  {
   "cell_type": "code",
   "execution_count": 7,
   "metadata": {},
   "outputs": [],
   "source": [
    "# create a python function to convert strings to lowercase\n",
    "\n",
    "def convert_song_to_lowercase(song):\n",
    "    return song.lower()"
   ]
  },
  {
   "cell_type": "code",
   "execution_count": 8,
   "metadata": {},
   "outputs": [
    {
     "name": "stdout",
     "output_type": "stream",
     "text": [
      "havana\n"
     ]
    }
   ],
   "source": [
    "print(convert_song_to_lowercase(\"Havana\"))"
   ]
  },
  {
   "cell_type": "code",
   "execution_count": 9,
   "metadata": {},
   "outputs": [
    {
     "name": "stderr",
     "output_type": "stream",
     "text": [
      "nice for what\n",
      "despacito\n",
      "in my feelings\n",
      "havana\n",
      "despacito\n",
      "no tears left to cry\n",
      "nice for what\n",
      "despacito\n",
      "all the stars\n"
     ]
    }
   ],
   "source": [
    "# use the map function to transform the list of songs with the python function that converts strings to lowercase\n",
    "\n",
    "lower_case_songs=distributed_song_log_rdd.map(convert_song_to_lowercase)\n",
    "lower_case_songs.foreach(print)"
   ]
  },
  {
   "cell_type": "code",
   "execution_count": 10,
   "metadata": {},
   "outputs": [
    {
     "name": "stderr",
     "output_type": "stream",
     "text": [
      "Nice for what\n",
      "Despacito\n",
      "Havana\n",
      "No tears left to cry\n",
      "despacito\n",
      "All the stars\n",
      "In my feelings\n",
      "Nice for what\n",
      "Despacito\n"
     ]
    }
   ],
   "source": [
    "# Show the original input data is still mixed case\n",
    "\n",
    "distributed_song_log_rdd.foreach(print)"
   ]
  },
  {
   "cell_type": "code",
   "execution_count": 11,
   "metadata": {},
   "outputs": [
    {
     "name": "stderr",
     "output_type": "stream",
     "text": [
      "havana\n",
      "no tears left to cry\n",
      "in my feelings\n",
      "nice for what\n",
      "despacito\n",
      "despacito\n",
      "all the stars\n",
      "despacito\n",
      "nice for what\n"
     ]
    }
   ],
   "source": [
    "# Use lambda functions instead of named functions to do the same map operation\n",
    "\n",
    "distributed_song_log_rdd.map(lambda song: song.lower()).foreach(print)"
   ]
  },
  {
   "cell_type": "code",
   "execution_count": 12,
   "metadata": {},
   "outputs": [
    {
     "name": "stderr",
     "output_type": "stream",
     "text": [
      "despacito\n",
      "nice for what\n",
      "no tears left to cry\n",
      "despacito\n",
      "in my feelings\n",
      "havana\n",
      "despacito\n",
      "all the stars\n",
      "nice for what\n"
     ]
    }
   ],
   "source": [
    "distributed_song_log_rdd.map(lambda x: x.lower()).foreach(print)"
   ]
  }
 ],
 "metadata": {
  "kernelspec": {
   "display_name": "spark-test",
   "language": "python",
   "name": "spark-test"
  },
  "language_info": {
   "codemirror_mode": {
    "name": "ipython",
    "version": 3
   },
   "file_extension": ".py",
   "mimetype": "text/x-python",
   "name": "python",
   "nbconvert_exporter": "python",
   "pygments_lexer": "ipython3",
   "version": "3.10.11"
  },
  "orig_nbformat": 4
 },
 "nbformat": 4,
 "nbformat_minor": 2
}
