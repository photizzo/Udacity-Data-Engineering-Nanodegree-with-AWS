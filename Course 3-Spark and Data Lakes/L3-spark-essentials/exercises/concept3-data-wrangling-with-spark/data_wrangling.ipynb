{
 "cells": [
  {
   "cell_type": "markdown",
   "metadata": {},
   "source": [
    "# Data Wrangling with Spark"
   ]
  },
  {
   "cell_type": "markdown",
   "metadata": {},
   "source": [
    "## Data Wrangling User Logs"
   ]
  },
  {
   "cell_type": "markdown",
   "metadata": {},
   "source": [
    "This first section imports libraries, instantiates a `SparkSession`, and then reads in the data set"
   ]
  },
  {
   "cell_type": "code",
   "execution_count": 1,
   "metadata": {},
   "outputs": [],
   "source": [
    "from pyspark.sql import SparkSession\n",
    "from pyspark.sql.functions import udf\n",
    "from pyspark.sql.types import IntegerType\n",
    "from pyspark.sql.functions import desc\n",
    "from pyspark.sql.functions import sum as Fsum\n",
    "\n",
    "import datetime\n",
    "\n",
    "import numpy as np\n",
    "import pandas as pd\n",
    "import matplotlib.pyplot as plt"
   ]
  },
  {
   "cell_type": "code",
   "execution_count": 2,
   "metadata": {},
   "outputs": [
    {
     "name": "stderr",
     "output_type": "stream",
     "text": [
      "Setting default log level to \"WARN\".\n",
      "To adjust logging level use sc.setLogLevel(newLevel). For SparkR, use setLogLevel(newLevel).\n",
      "23/07/10 13:32:32 WARN NativeCodeLoader: Unable to load native-hadoop library for your platform... using builtin-java classes where applicable\n"
     ]
    }
   ],
   "source": [
    "spark = SparkSession \\\n",
    "    .builder \\\n",
    "    .appName(\"Wrangling Data\") \\\n",
    "    .getOrCreate()"
   ]
  },
  {
   "cell_type": "code",
   "execution_count": 4,
   "metadata": {},
   "outputs": [],
   "source": [
    "path = \"../data/sparkify_log_small.json\"\n",
    "user_log_df = spark.read.json(path)"
   ]
  },
  {
   "cell_type": "markdown",
   "metadata": {},
   "source": [
    "### Data Exploration\n",
    "\n",
    "Explore the data by inspecting the first 5 rows in the DataFrame with the `.take()` function"
   ]
  },
  {
   "cell_type": "code",
   "execution_count": 5,
   "metadata": {},
   "outputs": [
    {
     "name": "stdout",
     "output_type": "stream",
     "text": [
      "[Row(artist='Showaddywaddy', auth='Logged In', firstName='Kenneth', gender='M', itemInSession=112, lastName='Matthews', length=232.93342, level='paid', location='Charlotte-Concord-Gastonia, NC-SC', method='PUT', page='NextSong', registration=1509380319284, sessionId=5132, song='Christmas Tears Will Fall', status=200, ts=1513720872284, userAgent='\"Mozilla/5.0 (Windows NT 6.1) AppleWebKit/537.36 (KHTML, like Gecko) Chrome/36.0.1985.125 Safari/537.36\"', userId='1046'), Row(artist='Lily Allen', auth='Logged In', firstName='Elizabeth', gender='F', itemInSession=7, lastName='Chase', length=195.23873, level='free', location='Shreveport-Bossier City, LA', method='PUT', page='NextSong', registration=1512718541284, sessionId=5027, song='Cheryl Tweedy', status=200, ts=1513720878284, userAgent='\"Mozilla/5.0 (Windows NT 6.1) AppleWebKit/537.36 (KHTML, like Gecko) Chrome/36.0.1985.143 Safari/537.36\"', userId='1000'), Row(artist='Cobra Starship Featuring Leighton Meester', auth='Logged In', firstName='Vera', gender='F', itemInSession=6, lastName='Blackwell', length=196.20526, level='paid', location='Racine, WI', method='PUT', page='NextSong', registration=1499855749284, sessionId=5516, song='Good Girls Go Bad (Feat.Leighton Meester) (Album Version)', status=200, ts=1513720881284, userAgent='\"Mozilla/5.0 (Macintosh; Intel Mac OS X 10_9_4) AppleWebKit/537.78.2 (KHTML, like Gecko) Version/7.0.6 Safari/537.78.2\"', userId='2219'), Row(artist='Alex Smoke', auth='Logged In', firstName='Sophee', gender='F', itemInSession=8, lastName='Barker', length=405.99465, level='paid', location='San Luis Obispo-Paso Robles-Arroyo Grande, CA', method='PUT', page='NextSong', registration=1513009647284, sessionId=2372, song=\"Don't See The Point\", status=200, ts=1513720905284, userAgent='\"Mozilla/5.0 (Windows NT 6.1; WOW64) AppleWebKit/537.36 (KHTML, like Gecko) Chrome/36.0.1985.143 Safari/537.36\"', userId='2373'), Row(artist=None, auth='Logged In', firstName='Jordyn', gender='F', itemInSession=0, lastName='Jones', length=None, level='free', location='Syracuse, NY', method='GET', page='Home', registration=1513648531284, sessionId=1746, song=None, status=200, ts=1513720913284, userAgent='\"Mozilla/5.0 (Macintosh; Intel Mac OS X 10_9_4) AppleWebKit/537.36 (KHTML, like Gecko) Chrome/37.0.2062.94 Safari/537.36\"', userId='1747')]\n"
     ]
    }
   ],
   "source": [
    "# Explore the Dataset\n",
    "# View 5 records \n",
    "\n",
    "print(\n",
    "    user_log_df.take(5)\n",
    ")"
   ]
  },
  {
   "cell_type": "markdown",
   "metadata": {},
   "source": [
    "Print the schema with `.printSchema()`\n",
    "\n",
    "Which displays the schema including column names and data types:"
   ]
  },
  {
   "cell_type": "code",
   "execution_count": 6,
   "metadata": {},
   "outputs": [
    {
     "name": "stdout",
     "output_type": "stream",
     "text": [
      "root\n",
      " |-- artist: string (nullable = true)\n",
      " |-- auth: string (nullable = true)\n",
      " |-- firstName: string (nullable = true)\n",
      " |-- gender: string (nullable = true)\n",
      " |-- itemInSession: long (nullable = true)\n",
      " |-- lastName: string (nullable = true)\n",
      " |-- length: double (nullable = true)\n",
      " |-- level: string (nullable = true)\n",
      " |-- location: string (nullable = true)\n",
      " |-- method: string (nullable = true)\n",
      " |-- page: string (nullable = true)\n",
      " |-- registration: long (nullable = true)\n",
      " |-- sessionId: long (nullable = true)\n",
      " |-- song: string (nullable = true)\n",
      " |-- status: long (nullable = true)\n",
      " |-- ts: long (nullable = true)\n",
      " |-- userAgent: string (nullable = true)\n",
      " |-- userId: string (nullable = true)\n",
      "\n"
     ]
    }
   ],
   "source": [
    "# Print the schema\n",
    "\n",
    "user_log_df.printSchema()"
   ]
  },
  {
   "cell_type": "markdown",
   "metadata": {},
   "source": [
    "Display a DataFrame in a table format with the `.show()` function"
   ]
  },
  {
   "cell_type": "code",
   "execution_count": 7,
   "metadata": {},
   "outputs": [
    {
     "name": "stderr",
     "output_type": "stream",
     "text": [
      "23/07/10 13:40:07 WARN package: Truncated the string representation of a plan since it was too large. This behavior can be adjusted by setting 'spark.sql.debug.maxToStringFields'.\n",
      "[Stage 2:=============================>                             (1 + 1) / 2]\r"
     ]
    },
    {
     "name": "stdout",
     "output_type": "stream",
     "text": [
      "+-------+-----------------+----------+---------+------+------------------+--------+-----------------+-----+------------+------+-------+--------------------+------------------+--------+-----------------+-------------------+--------------------+------------------+\n",
      "|summary|           artist|      auth|firstName|gender|     itemInSession|lastName|           length|level|    location|method|   page|        registration|         sessionId|    song|           status|                 ts|           userAgent|            userId|\n",
      "+-------+-----------------+----------+---------+------+------------------+--------+-----------------+-----+------------+------+-------+--------------------+------------------+--------+-----------------+-------------------+--------------------+------------------+\n",
      "|  count|             8347|     10000|     9664|  9664|             10000|    9664|             8347|10000|        9664| 10000|  10000|                9664|             10000|    8347|            10000|              10000|                9664|             10000|\n",
      "|   mean|            461.0|      null|     null|  null|           19.6734|    null|249.6486587492506| null|        null|  null|   null|1.504695369588739...|         4436.7511|Infinity|         202.8984| 1.5137859954164E12|                null|1442.4413286423842|\n",
      "| stddev|            300.0|      null|     null|  null|25.382114916132608|    null|95.00437130781461| null|        null|  null|   null|  8.47314252131656E9|2043.1281541827561|     NaN|18.04179115450588|3.290828862357974E7|                null| 829.8909432082621|\n",
      "|    min|              !!!|     Guest|   Aakash|     F|                 0| Acevedo|          1.12281| free|Aberdeen, WA|   GET|  About|       1463503881284|                 9|      #1|              200|      1513720872284|\"Mozilla/5.0 (Mac...|                  |\n",
      "|    max|ÃÂlafur Arnalds|Logged Out|     Zoie|     M|               163|  Zuniga|        1806.8371| paid|    Yuma, AZ|   PUT|Upgrade|       1513760702284|              7144|wingless|              404|      1513848349284|Mozilla/5.0 (comp...|               999|\n",
      "+-------+-----------------+----------+---------+------+------------------+--------+-----------------+-----+------------+------+-------+--------------------+------------------+--------+-----------------+-------------------+--------------------+------------------+\n",
      "\n"
     ]
    },
    {
     "name": "stderr",
     "output_type": "stream",
     "text": [
      "                                                                                \r"
     ]
    }
   ],
   "source": [
    "# Describe the dataframe\n",
    "\n",
    "user_log_df.describe().show()"
   ]
  },
  {
   "cell_type": "markdown",
   "metadata": {},
   "source": [
    "Use the `.describe()` function with the `.show()` function to explore basic statistics about the data."
   ]
  },
  {
   "cell_type": "code",
   "execution_count": 10,
   "metadata": {},
   "outputs": [
    {
     "name": "stdout",
     "output_type": "stream",
     "text": [
      "+-------+-----------------+\n",
      "|summary|           length|\n",
      "+-------+-----------------+\n",
      "|  count|             8347|\n",
      "|   mean|249.6486587492506|\n",
      "| stddev|95.00437130781461|\n",
      "|    min|          1.12281|\n",
      "|    max|        1806.8371|\n",
      "+-------+-----------------+\n",
      "\n"
     ]
    }
   ],
   "source": [
    "# Describe the statistics for the song length column\n",
    "\n",
    "user_log_df.describe(\"length\").show()"
   ]
  },
  {
   "cell_type": "code",
   "execution_count": 11,
   "metadata": {},
   "outputs": [
    {
     "name": "stdout",
     "output_type": "stream",
     "text": [
      "10000\n"
     ]
    }
   ],
   "source": [
    "# Count the rows in the dataframe\n",
    "\n",
    "print(\n",
    "    user_log_df.count()\n",
    ")"
   ]
  },
  {
   "cell_type": "markdown",
   "metadata": {},
   "source": [
    "Use `.dropDuplicates()` to see each kind of page once, and sort by page"
   ]
  },
  {
   "cell_type": "code",
   "execution_count": 12,
   "metadata": {},
   "outputs": [
    {
     "name": "stdout",
     "output_type": "stream",
     "text": [
      "+----------------+\n",
      "|            page|\n",
      "+----------------+\n",
      "|           About|\n",
      "|       Downgrade|\n",
      "|           Error|\n",
      "|            Help|\n",
      "|            Home|\n",
      "|           Login|\n",
      "|          Logout|\n",
      "|        NextSong|\n",
      "|   Save Settings|\n",
      "|        Settings|\n",
      "|Submit Downgrade|\n",
      "|  Submit Upgrade|\n",
      "|         Upgrade|\n",
      "+----------------+\n",
      "\n"
     ]
    }
   ],
   "source": [
    "# Select the page column, drop the duplicates, and sort by page\n",
    "# We want to distinct the list of all pages, and then sort them by page name\n",
    "\n",
    "user_log_df.select(\"page\").dropDuplicates().sort(\"page\").show()"
   ]
  },
  {
   "cell_type": "markdown",
   "metadata": {},
   "source": [
    "Select data for all pages where `userId` is `1046`"
   ]
  },
  {
   "cell_type": "code",
   "execution_count": 13,
   "metadata": {},
   "outputs": [
    {
     "name": "stdout",
     "output_type": "stream",
     "text": [
      "+------+---------+--------+--------------------+\n",
      "|userId|firstname|    page|                song|\n",
      "+------+---------+--------+--------------------+\n",
      "|  1046|  Kenneth|NextSong|Christmas Tears W...|\n",
      "|  1046|  Kenneth|NextSong|  Be Wary Of A Woman|\n",
      "|  1046|  Kenneth|NextSong|   Public Enemy No.1|\n",
      "|  1046|  Kenneth|NextSong|Reign Of The Tyrants|\n",
      "|  1046|  Kenneth|NextSong|      Father And Son|\n",
      "|  1046|  Kenneth|NextSong|               No. 5|\n",
      "|  1046|  Kenneth|NextSong|           Seventeen|\n",
      "|  1046|  Kenneth|    Home|                null|\n",
      "|  1046|  Kenneth|NextSong|          War on war|\n",
      "|  1046|  Kenneth|NextSong|   Killermont Street|\n",
      "|  1046|  Kenneth|NextSong|        Black & Blue|\n",
      "|  1046|  Kenneth|  Logout|                null|\n",
      "|  1046|  Kenneth|    Home|                null|\n",
      "|  1046|  Kenneth|NextSong|     Heads Will Roll|\n",
      "|  1046|  Kenneth|NextSong|Bleed It Out [Liv...|\n",
      "|  1046|  Kenneth|NextSong|              Clocks|\n",
      "|  1046|  Kenneth|NextSong|           Love Rain|\n",
      "|  1046|  Kenneth|NextSong|Ry Ry's Song (Alb...|\n",
      "|  1046|  Kenneth|NextSong|   The Invisible Man|\n",
      "|  1046|  Kenneth|NextSong|Catch You Baby (S...|\n",
      "+------+---------+--------+--------------------+\n",
      "only showing top 20 rows\n",
      "\n"
     ]
    }
   ],
   "source": [
    "# Select data for all pages where userId is 1046\n",
    "# And selecting specific columns that we're interested in\n",
    "\n",
    "user_log_df.select([\"userId\", \"firstname\", \"page\", \"song\"]) \\\n",
    "    .where(user_log_df.userId == \"1046\") \\\n",
    "    .show()"
   ]
  },
  {
   "cell_type": "markdown",
   "metadata": {},
   "source": [
    "### Calculating Statistics by Hour\n",
    "\n",
    "Display the results in a scatter plot"
   ]
  },
  {
   "cell_type": "code",
   "execution_count": 14,
   "metadata": {},
   "outputs": [],
   "source": [
    "# Do a user defined function (udf) in PySpark to extract the hour from the timestamp\n",
    "# We're converting that x which is a timestamp into an hour \n",
    "\n",
    "get_hour = udf(lambda x: datetime.datetime.fromtimestamp(x / 1000.0). hour)"
   ]
  },
  {
   "cell_type": "code",
   "execution_count": 15,
   "metadata": {},
   "outputs": [],
   "source": [
    "# call the udf function on the timestamp column and create a new column called hour\n",
    "# pass in the get_hour udf function and pass in the timestamp column (as input) that comes from the user_log_df dataframe\n",
    "\n",
    "user_log_df = user_log_df.withColumn(\"hour\", get_hour(user_log_df.ts))"
   ]
  },
  {
   "cell_type": "code",
   "execution_count": 16,
   "metadata": {},
   "outputs": [
    {
     "name": "stdout",
     "output_type": "stream",
     "text": [
      "[Row(artist='Showaddywaddy', auth='Logged In', firstName='Kenneth', gender='M', itemInSession=112, lastName='Matthews', length=232.93342, level='paid', location='Charlotte-Concord-Gastonia, NC-SC', method='PUT', page='NextSong', registration=1509380319284, sessionId=5132, song='Christmas Tears Will Fall', status=200, ts=1513720872284, userAgent='\"Mozilla/5.0 (Windows NT 6.1) AppleWebKit/537.36 (KHTML, like Gecko) Chrome/36.0.1985.125 Safari/537.36\"', userId='1046', hour='6')]\n"
     ]
    }
   ],
   "source": [
    "print(\n",
    "    # Get the first row\n",
    "    user_log_df.head(1)\n",
    ")"
   ]
  },
  {
   "cell_type": "markdown",
   "metadata": {},
   "source": [
    "#### Select just the NextSong page"
   ]
  },
  {
   "cell_type": "code",
   "execution_count": 17,
   "metadata": {},
   "outputs": [
    {
     "name": "stdout",
     "output_type": "stream",
     "text": [
      "+----+-----+\n",
      "|hour|count|\n",
      "+----+-----+\n",
      "|   0|  484|\n",
      "|   1|  430|\n",
      "|   2|  362|\n",
      "|   3|  295|\n",
      "|   4|  257|\n",
      "|   5|  248|\n",
      "|   6|  369|\n",
      "|   7|  375|\n",
      "|   8|  456|\n",
      "|   9|  454|\n",
      "|  10|  382|\n",
      "|  11|  302|\n",
      "|  12|  352|\n",
      "|  13|  276|\n",
      "|  14|  348|\n",
      "|  15|  358|\n",
      "|  16|  375|\n",
      "|  17|  249|\n",
      "|  18|  216|\n",
      "|  19|  228|\n",
      "+----+-----+\n",
      "only showing top 20 rows\n",
      "\n"
     ]
    },
    {
     "name": "stderr",
     "output_type": "stream",
     "text": [
      "                                                                                \r"
     ]
    }
   ],
   "source": [
    "# we're filtering by that page where users went to the next song\n",
    "\n",
    "songs_in_hour_df = user_log_df.filter(user_log_df.page == \"NextSong\") \\\n",
    "    .groupby(user_log_df.hour) \\\n",
    "    .count() \\\n",
    "    .orderBy(user_log_df.hour.cast(\"float\"))\n",
    "\n",
    "# show that dataframe that pertains to the next song (the number of songs played in each hour)\n",
    "songs_in_hour_df.show()"
   ]
  },
  {
   "cell_type": "code",
   "execution_count": 18,
   "metadata": {},
   "outputs": [
    {
     "name": "stderr",
     "output_type": "stream",
     "text": [
      "                                                                                \r"
     ]
    }
   ],
   "source": [
    "# convert that to a Pandas dataframe\n",
    "# use the `to_numeric` on Pandas to convert the hour column to a numeric \n",
    "\n",
    "songs_in_hour_pd = songs_in_hour_df.toPandas()\n",
    "songs_in_hour_pd.hour = pd.to_numeric(songs_in_hour_pd.hour)"
   ]
  },
  {
   "cell_type": "code",
   "execution_count": 19,
   "metadata": {},
   "outputs": [
    {
     "data": {
      "image/png": "[encoded data removed]",
      "text/plain": [
       "<Figure size 640x480 with 1 Axes>"
      ]
     },
     "metadata": {},
     "output_type": "display_data"
    }
   ],
   "source": [
    "# using Plotly to plot the number of songs played in each hour\n",
    "# it's going to create a scatter plot diagram with the hour on the x-axis and the number of songs played on the y-axis\n",
    "\n",
    "plt.scatter(songs_in_hour_pd[\"hour\"], songs_in_hour_pd[\"count\"])\n",
    "plt.xlim(-1, 24)\n",
    "plt.ylim(0, 1.2 * max(songs_in_hour_pd[\"count\"]))\n",
    "plt.xlabel(\"Hour\")\n",
    "plt.ylabel(\"Songs played\")\n",
    "plt.show()"
   ]
  },
  {
   "cell_type": "markdown",
   "metadata": {},
   "source": [
    "### Drop Rows with Missing Values\n",
    "\n",
    "As you'll see, there are no missing values in the `userID` or `session` columns. But there are userID values that are empty strings."
   ]
  },
  {
   "cell_type": "code",
   "execution_count": 20,
   "metadata": {},
   "outputs": [],
   "source": [
    "# As you'll see, it turns out there are no missing values in the userID or session columns. But there are userID values that are empty strings.\n",
    "# how = 'any' or 'all'. If 'any', drop a row if it contains any nulls. If 'all', drop a row only if all its values are null.\n",
    "# subset = list of columns to consider\n",
    "\n",
    "user_log_valid_df = user_log_df.dropna(how = \"any\", subset = [\"userId\", \"sessionId\"])"
   ]
  },
  {
   "cell_type": "code",
   "execution_count": 21,
   "metadata": {},
   "outputs": [
    {
     "name": "stdout",
     "output_type": "stream",
     "text": [
      "10000\n"
     ]
    }
   ],
   "source": [
    "# How many are there now that we dropped rows with null userId or sessionId?\n",
    "\n",
    "print(\n",
    "    user_log_valid_df.count()\n",
    ")"
   ]
  },
  {
   "cell_type": "code",
   "execution_count": 22,
   "metadata": {},
   "outputs": [
    {
     "name": "stdout",
     "output_type": "stream",
     "text": [
      "+------+\n",
      "|userId|\n",
      "+------+\n",
      "|      |\n",
      "|    10|\n",
      "|   100|\n",
      "|  1000|\n",
      "|  1003|\n",
      "|  1005|\n",
      "|  1006|\n",
      "|  1017|\n",
      "|  1019|\n",
      "|  1020|\n",
      "|  1022|\n",
      "|  1025|\n",
      "|  1030|\n",
      "|  1035|\n",
      "|  1037|\n",
      "|   104|\n",
      "|  1040|\n",
      "|  1042|\n",
      "|  1043|\n",
      "|  1046|\n",
      "+------+\n",
      "only showing top 20 rows\n",
      "\n"
     ]
    }
   ],
   "source": [
    "# select all unique user ids into a dataframe\n",
    "\n",
    "user_log_df.select(\"userId\") \\\n",
    "    .dropDuplicates() \\\n",
    "    .sort(\"userId\").show()"
   ]
  },
  {
   "cell_type": "code",
   "execution_count": 23,
   "metadata": {},
   "outputs": [],
   "source": [
    "# Select only data for where the userId column isn't an empty string (different from null)\n",
    "\n",
    "user_log_valid_df = user_log_valid_df.filter(user_log_valid_df[\"userId\"] != \"\")"
   ]
  },
  {
   "cell_type": "code",
   "execution_count": 24,
   "metadata": {},
   "outputs": [
    {
     "name": "stdout",
     "output_type": "stream",
     "text": [
      "9664\n"
     ]
    }
   ],
   "source": [
    "# Notice the count has dropped after dropping rows with empty userId\n",
    "\n",
    "print(\n",
    "    user_log_valid_df.count()\n",
    ")"
   ]
  },
  {
   "cell_type": "markdown",
   "metadata": {},
   "source": [
    "## Users Downgrade Their Accounts"
   ]
  },
  {
   "cell_type": "code",
   "execution_count": 25,
   "metadata": {},
   "outputs": [
    {
     "name": "stdout",
     "output_type": "stream",
     "text": [
      "+------+---------+---------+------+-------------+--------+------+-----+--------------------+------+----------------+-------------+---------+----+------+-------------+--------------------+------+----+\n",
      "|artist|     auth|firstName|gender|itemInSession|lastName|length|level|            location|method|            page| registration|sessionId|song|status|           ts|           userAgent|userId|hour|\n",
      "+------+---------+---------+------+-------------+--------+------+-----+--------------------+------+----------------+-------------+---------+----+------+-------------+--------------------+------+----+\n",
      "|  null|Logged In|    Kelly|     F|           24|  Newton|  null| paid|Houston-The Woodl...|   PUT|Submit Downgrade|1513283366284|     5931|null|   307|1513768454284|Mozilla/5.0 (Wind...|  1138|  19|\n",
      "+------+---------+---------+------+-------------+--------+------+-----+--------------------+------+----------------+-------------+---------+----+------+-------------+--------------------+------+----+\n",
      "\n"
     ]
    }
   ],
   "source": [
    "# Find when users downgrade their accounts and then show those log entries. \n",
    "\n",
    "user_log_valid_df.filter(\"page = 'Submit Downgrade'\") \\\n",
    "    .show()"
   ]
  },
  {
   "cell_type": "code",
   "execution_count": 26,
   "metadata": {},
   "outputs": [
    {
     "name": "stdout",
     "output_type": "stream",
     "text": [
      "+------+---------+--------+-----+--------------------+\n",
      "|userId|firstname|    page|level|                song|\n",
      "+------+---------+--------+-----+--------------------+\n",
      "|  1138|    Kelly|    Home| paid|                null|\n",
      "|  1138|    Kelly|NextSong| paid| Everybody Everybody|\n",
      "|  1138|    Kelly|NextSong| paid|               Gears|\n",
      "|  1138|    Kelly|NextSong| paid|        Use Somebody|\n",
      "|  1138|    Kelly|NextSong| paid|Love Of My Life (...|\n",
      "|  1138|    Kelly|NextSong| paid|Down In The Valle...|\n",
      "|  1138|    Kelly|NextSong| paid|Treat Her Like A ...|\n",
      "|  1138|    Kelly|NextSong| paid|Everybody Thinks ...|\n",
      "|  1138|    Kelly|NextSong| paid|      Fourteen Wives|\n",
      "|  1138|    Kelly|NextSong| paid|   Love On The Rocks|\n",
      "|  1138|    Kelly|NextSong| paid|           Breakeven|\n",
      "|  1138|    Kelly|NextSong| paid|          Leaf House|\n",
      "|  1138|    Kelly|NextSong| paid|       NAISEN KANSSA|\n",
      "|  1138|    Kelly|NextSong| paid|  You're In My Heart|\n",
      "|  1138|    Kelly|NextSong| paid|Roll On Down The ...|\n",
      "|  1138|    Kelly|NextSong| paid|Plasticities (Remix)|\n",
      "|  1138|    Kelly|NextSong| paid|             Secrets|\n",
      "|  1138|    Kelly|NextSong| paid|               Hello|\n",
      "|  1138|    Kelly|NextSong| paid|    I Never Told You|\n",
      "|  1138|    Kelly|NextSong| paid|       Love Break Me|\n",
      "+------+---------+--------+-----+--------------------+\n",
      "only showing top 20 rows\n",
      "\n"
     ]
    }
   ],
   "source": [
    "user_log_df.select([\"userId\", \"firstname\", \"page\", \"level\", \"song\"]) \\\n",
    "    .where(user_log_df.userId == \"1138\") \\\n",
    "    .show()"
   ]
  },
  {
   "cell_type": "code",
   "execution_count": 27,
   "metadata": {},
   "outputs": [],
   "source": [
    "# Create a user defined function to return a 1 if the record contains a downgrade\n",
    "\n",
    "flag_downgrade_event = udf(lambda x: 1 if x == \"Submit Downgrade\" else 0, IntegerType())"
   ]
  },
  {
   "cell_type": "code",
   "execution_count": 28,
   "metadata": {},
   "outputs": [
    {
     "name": "stdout",
     "output_type": "stream",
     "text": [
      "Row(artist='Showaddywaddy', auth='Logged In', firstName='Kenneth', gender='M', itemInSession=112, lastName='Matthews', length=232.93342, level='paid', location='Charlotte-Concord-Gastonia, NC-SC', method='PUT', page='NextSong', registration=1509380319284, sessionId=5132, song='Christmas Tears Will Fall', status=200, ts=1513720872284, userAgent='\"Mozilla/5.0 (Windows NT 6.1) AppleWebKit/537.36 (KHTML, like Gecko) Chrome/36.0.1985.125 Safari/537.36\"', userId='1046', hour='6', downgraded=0)\n"
     ]
    }
   ],
   "source": [
    "# Select data including the user defined function\n",
    "\n",
    "user_log_valid_df = user_log_valid_df \\\n",
    "    .withColumn(\"downgraded\", flag_downgrade_event(\"page\"))\n",
    "\n",
    "print(\n",
    "    user_log_valid_df.head()\n",
    ")"
   ]
  },
  {
   "cell_type": "markdown",
   "metadata": {},
   "source": [
    "### Partition by user id"
   ]
  },
  {
   "cell_type": "code",
   "execution_count": 29,
   "metadata": {},
   "outputs": [],
   "source": [
    "from pyspark.sql import Window"
   ]
  },
  {
   "cell_type": "code",
   "execution_count": 30,
   "metadata": {},
   "outputs": [],
   "source": [
    "# Then use a window function and cumulative sum to distinguish each user's data as either pre or post downgrade events.\n",
    "\n",
    "windowval = Window.partitionBy(\"userId\") \\\n",
    "    .orderBy(desc(\"ts\")) \\\n",
    "    .rangeBetween(Window.unboundedPreceding, 0)"
   ]
  },
  {
   "cell_type": "code",
   "execution_count": 31,
   "metadata": {},
   "outputs": [
    {
     "name": "stderr",
     "output_type": "stream",
     "text": [
      "[Stage 47:=============================>                            (1 + 1) / 2]\r"
     ]
    },
    {
     "name": "stdout",
     "output_type": "stream",
     "text": [
      "+-----------------+---------+---------+------+-------------+--------+---------+-----+--------------------+------+--------+-------------+---------+--------------------+------+-------------+--------------------+------+----+----------+-----+\n",
      "|           artist|     auth|firstName|gender|itemInSession|lastName|   length|level|            location|method|    page| registration|sessionId|                song|status|           ts|           userAgent|userId|hour|downgraded|phase|\n",
      "+-----------------+---------+---------+------+-------------+--------+---------+-----+--------------------+------+--------+-------------+---------+--------------------+------+-------------+--------------------+------+----+----------+-----+\n",
      "|  The Get Up Kids|Logged In| Veronica|     F|            0| Buckley|178.59873| free|Detroit-Warren-De...|   PUT|NextSong|1512966806284|     6676|             Overdue|   200|1513828388284|\"Mozilla/5.0 (Mac...|    10|  11|         0|    0|\n",
      "|      OneRepublic|Logged In| Veronica|     F|            0| Buckley|224.67873| free|Detroit-Warren-De...|   PUT|NextSong|1512966806284|        9|             Secrets|   200|1513790894284|\"Mozilla/5.0 (Mac...|    10|   1|         0|    0|\n",
      "|             null|Logged In|   Elijah|     M|            0|   Moore|     null| free|New Orleans-Metai...|   GET|    Home|1488073913284|     6316|                null|   200|1513839673284|\"Mozilla/5.0 (Win...|   100|  15|         0|    0|\n",
      "|           Ayabie|Logged In|   Elijah|     M|            4|   Moore|244.71465| free|New Orleans-Metai...|   PUT|NextSong|1488073913284|     6040|                0010|   200|1513776308284|\"Mozilla/5.0 (Win...|   100|  21|         0|    0|\n",
      "|             null|Logged In|   Elijah|     M|            3|   Moore|     null| free|New Orleans-Metai...|   GET|    Home|1488073913284|     6040|                null|   200|1513776194284|\"Mozilla/5.0 (Win...|   100|  21|         0|    0|\n",
      "|       Velour 100|Logged In|   Elijah|     M|            2|   Moore|202.29179| free|New Orleans-Metai...|   PUT|NextSong|1488073913284|     6040|Clouds (Of Color ...|   200|1513775710284|\"Mozilla/5.0 (Win...|   100|  21|         0|    0|\n",
      "|    Crystal Gayle|Logged In|   Elijah|     M|            1|   Moore|154.74893| free|New Orleans-Metai...|   PUT|NextSong|1488073913284|     6040|Don't It Make My ...|   200|1513775556284|\"Mozilla/5.0 (Win...|   100|  21|         0|    0|\n",
      "|             null|Logged In|   Elijah|     M|            0|   Moore|     null| free|New Orleans-Metai...|   GET|    Home|1488073913284|     6040|                null|   200|1513775431284|\"Mozilla/5.0 (Win...|   100|  21|         0|    0|\n",
      "|      OneRepublic|Logged In|   Elijah|     M|            1|   Moore|224.67873| free|New Orleans-Metai...|   PUT|NextSong|1488073913284|     5762|             Secrets|   200|1513750442284|\"Mozilla/5.0 (Win...|   100|  14|         0|    0|\n",
      "|       Josh Rouse|Logged In|   Elijah|     M|            0|   Moore|228.93669| free|New Orleans-Metai...|   PUT|NextSong|1488073913284|     5762|                1972|   200|1513750214284|\"Mozilla/5.0 (Win...|   100|  14|         0|    0|\n",
      "|       Lily Allen|Logged In|Elizabeth|     F|            7|   Chase|195.23873| free|Shreveport-Bossie...|   PUT|NextSong|1512718541284|     5027|       Cheryl Tweedy|   200|1513720878284|\"Mozilla/5.0 (Win...|  1000|   6|         0|    0|\n",
      "|             null|Logged In|  Kendale|     F|            2|Robinson|     null| free|San Diego-Carlsba...|   GET|    Home|1500655861284|     1002|                null|   200|1513749525284|\"Mozilla/5.0 (Mac...|  1003|  13|         0|    0|\n",
      "|   Wayne Bergeron|Logged In|  Kendale|     F|            1|Robinson|425.89995| free|San Diego-Carlsba...|   PUT|NextSong|1500655861284|     1002|         The Hipster|   200|1513749516284|\"Mozilla/5.0 (Mac...|  1003|  13|         0|    0|\n",
      "|             null|Logged In|  Kendale|     F|            0|Robinson|     null| free|San Diego-Carlsba...|   GET|    Home|1500655861284|     1002|                null|   200|1513749501284|\"Mozilla/5.0 (Mac...|  1003|  13|         0|    0|\n",
      "|    Blank & Jones|Logged In|     Ryan|     M|            0|Carrillo|245.86404| free|    Bend-Redmond, OR|   PUT|NextSong|1475799838284|     4250|      Nuits Blanches|   200|1513782278284|Mozilla/5.0 (Wind...|  1005|  23|         0|    0|\n",
      "|  Nine Inch Nails|Logged In|    Bryce|     M|            2|   Simon|340.16608| free|New York-Newark-J...|   PUT|NextSong|1512533018284|     1005| Where Is Everybody?|   200|1513774019284|\"Mozilla/5.0 (Mac...|  1006|  20|         0|    0|\n",
      "|Silversun Pickups|Logged In|    Bryce|     M|            1|   Simon|242.12853| free|New York-Newark-J...|   PUT|NextSong|1512533018284|     1005|Well Thought Out ...|   200|1513773777284|\"Mozilla/5.0 (Mac...|  1006|  20|         0|    0|\n",
      "|        The Shins|Logged In|    Bryce|     M|            0|   Simon|229.14567| free|New York-Newark-J...|   PUT|NextSong|1512533018284|     1005|A Comet Appears (...|   200|1513773548284|\"Mozilla/5.0 (Mac...|  1006|  20|         0|    0|\n",
      "|        Sam Cooke|Logged In| Jamarian|     M|            5|   Moore|122.04363| free|San Diego-Carlsba...|   PUT|NextSong|1497924129284|     6987|    Ain't Misbehavin|   200|1513822643284|Mozilla/5.0 (Wind...|  1017|  10|         0|    0|\n",
      "|             null|Logged In| Jamarian|     M|            4|   Moore|     null| free|San Diego-Carlsba...|   GET|    Home|1497924129284|     6987|                null|   200|1513822400284|Mozilla/5.0 (Wind...|  1017|  10|         0|    0|\n",
      "+-----------------+---------+---------+------+-------------+--------+---------+-----+--------------------+------+--------+-------------+---------+--------------------+------+-------------+--------------------+------+----+----------+-----+\n",
      "only showing top 20 rows\n",
      "\n"
     ]
    },
    {
     "name": "stderr",
     "output_type": "stream",
     "text": [
      "                                                                                \r"
     ]
    }
   ],
   "source": [
    "# Fsum is a cumulative sum over a window - in this case a window showing all events for a user\n",
    "# Add a column called phase, 0 if the user hasn't downgraded yet, 1 if they have\n",
    "\n",
    "user_log_valid_df = user_log_valid_df \\\n",
    "    .withColumn(\"phase\", Fsum(\"downgraded\") \\\n",
    "    .over(windowval))\n",
    "\n",
    "user_log_valid_df.show()    \n"
   ]
  },
  {
   "cell_type": "code",
   "execution_count": 32,
   "metadata": {},
   "outputs": [
    {
     "name": "stdout",
     "output_type": "stream",
     "text": [
      "+------+---------+-------------+--------+-----+-----+\n",
      "|userId|firstname|           ts|    page|level|phase|\n",
      "+------+---------+-------------+--------+-----+-----+\n",
      "|  1138|    Kelly|1513729066284|    Home| paid|    1|\n",
      "|  1138|    Kelly|1513729066284|NextSong| paid|    1|\n",
      "|  1138|    Kelly|1513729313284|NextSong| paid|    1|\n",
      "|  1138|    Kelly|1513729552284|NextSong| paid|    1|\n",
      "|  1138|    Kelly|1513729783284|NextSong| paid|    1|\n",
      "|  1138|    Kelly|1513730001284|NextSong| paid|    1|\n",
      "|  1138|    Kelly|1513730263284|NextSong| paid|    1|\n",
      "|  1138|    Kelly|1513730518284|NextSong| paid|    1|\n",
      "|  1138|    Kelly|1513730768284|NextSong| paid|    1|\n",
      "|  1138|    Kelly|1513731182284|NextSong| paid|    1|\n",
      "|  1138|    Kelly|1513731435284|NextSong| paid|    1|\n",
      "|  1138|    Kelly|1513731695284|NextSong| paid|    1|\n",
      "|  1138|    Kelly|1513731857284|NextSong| paid|    1|\n",
      "|  1138|    Kelly|1513732160284|NextSong| paid|    1|\n",
      "|  1138|    Kelly|1513732302284|NextSong| paid|    1|\n",
      "|  1138|    Kelly|1513732540284|NextSong| paid|    1|\n",
      "|  1138|    Kelly|1513732770284|NextSong| paid|    1|\n",
      "|  1138|    Kelly|1513732994284|NextSong| paid|    1|\n",
      "|  1138|    Kelly|1513733223284|NextSong| paid|    1|\n",
      "|  1138|    Kelly|1513733456284|NextSong| paid|    1|\n",
      "+------+---------+-------------+--------+-----+-----+\n",
      "only showing top 20 rows\n",
      "\n"
     ]
    }
   ],
   "source": [
    "# Show the phases for user 1138 \n",
    "\n",
    "user_log_valid_df \\\n",
    "    .select([\"userId\", \"firstname\", \"ts\", \"page\", \"level\", \"phase\"]) \\\n",
    "    .where(user_log_df.userId == \"1138\") \\\n",
    "    .sort(\"ts\") \\\n",
    "    .show()"
   ]
  }
 ],
 "metadata": {
  "kernelspec": {
   "display_name": "spark-test",
   "language": "python",
   "name": "spark-test"
  },
  "language_info": {
   "codemirror_mode": {
    "name": "ipython",
    "version": 3
   },
   "file_extension": ".py",
   "mimetype": "text/x-python",
   "name": "python",
   "nbconvert_exporter": "python",
   "pygments_lexer": "ipython3",
   "version": "3.10.11"
  },
  "orig_nbformat": 4
 },
 "nbformat": 4,
 "nbformat_minor": 2
}
